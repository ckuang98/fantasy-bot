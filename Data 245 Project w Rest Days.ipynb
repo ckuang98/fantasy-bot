{
 "cells": [
  {
   "cell_type": "markdown",
   "metadata": {},
   "source": [
    "<center><h1>Data 245: Project</h1>\n",
    "    <h2>NBA Prediction</h2>"
   ]
  },
  {
   "cell_type": "markdown",
   "metadata": {},
   "source": [
    "<h3>Imports"
   ]
  },
  {
   "cell_type": "code",
   "execution_count": 1,
   "metadata": {},
   "outputs": [],
   "source": [
    "import numpy as np, scipy as sc, pandas as pd, requests\n",
    "import xml.etree.ElementTree as ET\n",
    "from nba_api.stats.static import players\n",
    "from nba_api.stats.endpoints import playercareerstats, playergamelog, playergamelogs, fantasywidget\n",
    "from nba_api.stats.endpoints import infographicfanduelplayer, playerdashboardbylastngames, playernextngames\n",
    "from nba_api.stats.endpoints import commonplayerinfo, commonallplayers\n",
    "import json\n",
    "import time\n",
    "from IPython.display import Audio"
   ]
  },
  {
   "cell_type": "markdown",
   "metadata": {},
   "source": [
    "<h3>Notes"
   ]
  },
  {
   "cell_type": "markdown",
   "metadata": {},
   "source": [
    "Scoring Rules:\n",
    "- point +1\n",
    "- 3pt made +0.5\n",
    "- rebound +1.25\n",
    "- assist +1.5\n",
    "- steal +2\n",
    "- turnover -0.5\n",
    "- 10x2 +1.5\n",
    "- 10x3 +3\n",
    "\n",
    "Gen restrictions:\n",
    "- 8 players\n",
    "- min 2 teams\n",
    "- 1x5 basic positions, 1G, 1F, 1 Util"
   ]
  },
  {
   "cell_type": "markdown",
   "metadata": {},
   "source": [
    "<h3>Sound (not neccessary for function)"
   ]
  },
  {
   "cell_type": "code",
   "execution_count": 2,
   "metadata": {},
   "outputs": [],
   "source": [
    "'''\n",
    "Audio Source:\n",
    "https://mixkit.co/free-sound-effects/beep/\n",
    "Positive Interface Beep\n",
    "'''\n",
    "sound_file = './sound/beep.wav'"
   ]
  },
  {
   "cell_type": "markdown",
   "metadata": {},
   "source": [
    "<h3>Injuries Dataframe"
   ]
  },
  {
   "cell_type": "code",
   "execution_count": 3,
   "metadata": {},
   "outputs": [
    {
     "data": {
      "text/plain": [
       "'\\nurl = \\'https://www.fantasybasketballnerd.com/service/injuries\\'\\nres = requests.get(url)\\ncontent = res.text\\ntree = ET.ElementTree(ET.fromstring(content))\\nteam = \"\"\\nplayer = []\\ninjuries = []\\ncols = [\"name\",\"injury\",\"notes\",\"updated\"]\\nfor elem in tree.iter():\\n    if elem.tag == \"Team\":\\n        team = elem.attrib[\\'code\\']\\n    elif elem.tag == \"Player\":\\n        player.append(team)\\n    elif elem.tag in cols:\\n        player.append(elem.text)\\n    if elem.tag == \"updated\":\\n        injuries.append(player)\\n        player = []\\ninjuries\\ncols.insert(0,\"team\")\\ninjuries_df = pd.DataFrame.from_records(injuries,columns=cols)'"
      ]
     },
     "execution_count": 3,
     "metadata": {},
     "output_type": "execute_result"
    }
   ],
   "source": [
    "'''\n",
    "url = 'https://www.fantasybasketballnerd.com/service/injuries'\n",
    "res = requests.get(url)\n",
    "content = res.text\n",
    "tree = ET.ElementTree(ET.fromstring(content))\n",
    "team = \"\"\n",
    "player = []\n",
    "injuries = []\n",
    "cols = [\"name\",\"injury\",\"notes\",\"updated\"]\n",
    "for elem in tree.iter():\n",
    "    if elem.tag == \"Team\":\n",
    "        team = elem.attrib['code']\n",
    "    elif elem.tag == \"Player\":\n",
    "        player.append(team)\n",
    "    elif elem.tag in cols:\n",
    "        player.append(elem.text)\n",
    "    if elem.tag == \"updated\":\n",
    "        injuries.append(player)\n",
    "        player = []\n",
    "injuries\n",
    "cols.insert(0,\"team\")\n",
    "injuries_df = pd.DataFrame.from_records(injuries,columns=cols)'''"
   ]
  },
  {
   "cell_type": "markdown",
   "metadata": {},
   "source": [
    "<h3>Get Active Players"
   ]
  },
  {
   "cell_type": "code",
   "execution_count": 4,
   "metadata": {},
   "outputs": [],
   "source": [
    "x = commonallplayers.CommonAllPlayers().get_data_frames()[0]"
   ]
  },
  {
   "cell_type": "code",
   "execution_count": 5,
   "metadata": {},
   "outputs": [],
   "source": [
    "active_players = x[x['TO_YEAR'] == '2020']"
   ]
  },
  {
   "cell_type": "code",
   "execution_count": 6,
   "metadata": {},
   "outputs": [],
   "source": [
    "ap = list(active_players['PERSON_ID'])"
   ]
  },
  {
   "cell_type": "code",
   "execution_count": 7,
   "metadata": {},
   "outputs": [
    {
     "data": {
      "text/plain": [
       "536"
      ]
     },
     "execution_count": 7,
     "metadata": {},
     "output_type": "execute_result"
    }
   ],
   "source": [
    "len(ap)"
   ]
  },
  {
   "cell_type": "markdown",
   "metadata": {},
   "source": [
    "<h3>Season Stats Data Frame Building"
   ]
  },
  {
   "cell_type": "code",
   "execution_count": 8,
   "metadata": {},
   "outputs": [],
   "source": [
    "t_df = commonplayerinfo.CommonPlayerInfo(player_id=2544).get_data_frames()[0]\n",
    "headers = list(t_df.columns.values)"
   ]
  },
  {
   "cell_type": "code",
   "execution_count": 9,
   "metadata": {},
   "outputs": [],
   "source": [
    "df = pd.DataFrame(columns = headers)"
   ]
  },
  {
   "cell_type": "code",
   "execution_count": 10,
   "metadata": {},
   "outputs": [
    {
     "ename": "ValueError",
     "evalue": "rate must be specified when data is a numpy array or list of audio samples.",
     "output_type": "error",
     "traceback": [
      "\u001b[1;31m---------------------------------------------------------------------------\u001b[0m",
      "\u001b[1;31mValueError\u001b[0m                                Traceback (most recent call last)",
      "\u001b[1;32m<ipython-input-10-162e2d94c71f>\u001b[0m in \u001b[0;36m<module>\u001b[1;34m\u001b[0m\n\u001b[0;32m     16\u001b[0m             \u001b[0mprint\u001b[0m\u001b[1;33m(\u001b[0m\u001b[1;34m'break'\u001b[0m\u001b[1;33m)\u001b[0m\u001b[1;33m\u001b[0m\u001b[1;33m\u001b[0m\u001b[0m\n\u001b[0;32m     17\u001b[0m             \u001b[1;32mbreak\u001b[0m\u001b[1;33m\u001b[0m\u001b[1;33m\u001b[0m\u001b[0m\n\u001b[1;32m---> 18\u001b[1;33m \u001b[0mAudio\u001b[0m\u001b[1;33m(\u001b[0m\u001b[0msound_file\u001b[0m\u001b[1;33m,\u001b[0m \u001b[0mautoplay\u001b[0m\u001b[1;33m=\u001b[0m\u001b[1;32mTrue\u001b[0m\u001b[1;33m)\u001b[0m\u001b[1;33m\u001b[0m\u001b[1;33m\u001b[0m\u001b[0m\n\u001b[0m",
      "\u001b[1;32m~\\anaconda3\\lib\\site-packages\\IPython\\lib\\display.py\u001b[0m in \u001b[0;36m__init__\u001b[1;34m(self, data, filename, url, embed, rate, autoplay, normalize, element_id)\u001b[0m\n\u001b[0;32m    112\u001b[0m         \u001b[1;32mif\u001b[0m \u001b[0mself\u001b[0m\u001b[1;33m.\u001b[0m\u001b[0mdata\u001b[0m \u001b[1;32mis\u001b[0m \u001b[1;32mnot\u001b[0m \u001b[1;32mNone\u001b[0m \u001b[1;32mand\u001b[0m \u001b[1;32mnot\u001b[0m \u001b[0misinstance\u001b[0m\u001b[1;33m(\u001b[0m\u001b[0mself\u001b[0m\u001b[1;33m.\u001b[0m\u001b[0mdata\u001b[0m\u001b[1;33m,\u001b[0m \u001b[0mbytes\u001b[0m\u001b[1;33m)\u001b[0m\u001b[1;33m:\u001b[0m\u001b[1;33m\u001b[0m\u001b[1;33m\u001b[0m\u001b[0m\n\u001b[0;32m    113\u001b[0m             \u001b[1;32mif\u001b[0m \u001b[0mrate\u001b[0m \u001b[1;32mis\u001b[0m \u001b[1;32mNone\u001b[0m\u001b[1;33m:\u001b[0m\u001b[1;33m\u001b[0m\u001b[1;33m\u001b[0m\u001b[0m\n\u001b[1;32m--> 114\u001b[1;33m                 \u001b[1;32mraise\u001b[0m \u001b[0mValueError\u001b[0m\u001b[1;33m(\u001b[0m\u001b[1;34m\"rate must be specified when data is a numpy array or list of audio samples.\"\u001b[0m\u001b[1;33m)\u001b[0m\u001b[1;33m\u001b[0m\u001b[1;33m\u001b[0m\u001b[0m\n\u001b[0m\u001b[0;32m    115\u001b[0m             \u001b[0mself\u001b[0m\u001b[1;33m.\u001b[0m\u001b[0mdata\u001b[0m \u001b[1;33m=\u001b[0m \u001b[0mAudio\u001b[0m\u001b[1;33m.\u001b[0m\u001b[0m_make_wav\u001b[0m\u001b[1;33m(\u001b[0m\u001b[0mdata\u001b[0m\u001b[1;33m,\u001b[0m \u001b[0mrate\u001b[0m\u001b[1;33m,\u001b[0m \u001b[0mnormalize\u001b[0m\u001b[1;33m)\u001b[0m\u001b[1;33m\u001b[0m\u001b[1;33m\u001b[0m\u001b[0m\n\u001b[0;32m    116\u001b[0m \u001b[1;33m\u001b[0m\u001b[0m\n",
      "\u001b[1;31mValueError\u001b[0m: rate must be specified when data is a numpy array or list of audio samples."
     ]
    }
   ],
   "source": [
    "e = 0\n",
    "for player in ap:\n",
    "    try:\n",
    "        base = commonplayerinfo.CommonPlayerInfo(player_id=player, timeout=1000).get_data_frames()\n",
    "        df = df.append(base[0])\n",
    "        time.sleep(0.600)\n",
    "    except:\n",
    "        if e < 7:\n",
    "            e+=1\n",
    "            time.sleep(45)\n",
    "            #print(e)\n",
    "            base = commonplayerinfo.CommonPlayerInfo(player_id=player, timeout=1000).get_data_frames()\n",
    "            df = df.append(base[0])\n",
    "            continue\n",
    "        else:\n",
    "            print('break')\n",
    "            break\n",
    "Audio(sound_file, autoplay=True)"
   ]
  },
  {
   "cell_type": "code",
   "execution_count": 11,
   "metadata": {},
   "outputs": [],
   "source": [
    "f_df = fantasywidget.FantasyWidget().get_data_frames()[0]"
   ]
  },
  {
   "cell_type": "code",
   "execution_count": 12,
   "metadata": {},
   "outputs": [
    {
     "data": {
      "text/plain": [
       "Index(['PERSON_ID', 'FIRST_NAME', 'LAST_NAME', 'DISPLAY_FIRST_LAST',\n",
       "       'DISPLAY_LAST_COMMA_FIRST', 'DISPLAY_FI_LAST', 'PLAYER_SLUG',\n",
       "       'BIRTHDATE', 'SCHOOL', 'COUNTRY', 'LAST_AFFILIATION', 'HEIGHT',\n",
       "       'WEIGHT', 'SEASON_EXP', 'JERSEY', 'POSITION', 'ROSTERSTATUS',\n",
       "       'GAMES_PLAYED_CURRENT_SEASON_FLAG', 'TEAM_ID', 'TEAM_NAME',\n",
       "       'TEAM_ABBREVIATION', 'TEAM_CODE', 'TEAM_CITY', 'PLAYERCODE',\n",
       "       'FROM_YEAR', 'TO_YEAR', 'DLEAGUE_FLAG', 'NBA_FLAG', 'GAMES_PLAYED_FLAG',\n",
       "       'DRAFT_YEAR', 'DRAFT_ROUND', 'DRAFT_NUMBER'],\n",
       "      dtype='object')"
      ]
     },
     "execution_count": 12,
     "metadata": {},
     "output_type": "execute_result"
    }
   ],
   "source": [
    "df.columns"
   ]
  },
  {
   "cell_type": "code",
   "execution_count": 13,
   "metadata": {},
   "outputs": [
    {
     "data": {
      "text/plain": [
       "Index(['PLAYER_ID', 'PLAYER_NAME', 'PLAYER_POSITION', 'TEAM_ID',\n",
       "       'TEAM_ABBREVIATION', 'GP', 'MIN', 'FAN_DUEL_PTS', 'NBA_FANTASY_PTS',\n",
       "       'PTS', 'REB', 'AST', 'BLK', 'STL', 'TOV', 'FG3M', 'FGA', 'FG_PCT',\n",
       "       'FTA', 'FT_PCT'],\n",
       "      dtype='object')"
      ]
     },
     "execution_count": 13,
     "metadata": {},
     "output_type": "execute_result"
    }
   ],
   "source": [
    "f_df.columns"
   ]
  },
  {
   "cell_type": "code",
   "execution_count": 14,
   "metadata": {},
   "outputs": [],
   "source": [
    "df = df.rename(columns={\"PERSON_ID\": \"PLAYER_ID\"})"
   ]
  },
  {
   "cell_type": "code",
   "execution_count": 15,
   "metadata": {},
   "outputs": [],
   "source": [
    "df = df.drop(['TEAM_ID', 'TEAM_ABBREVIATION'], axis = 1)"
   ]
  },
  {
   "cell_type": "code",
   "execution_count": 16,
   "metadata": {},
   "outputs": [],
   "source": [
    "df =  df.join(f_df.set_index('PLAYER_ID'), on='PLAYER_ID')"
   ]
  },
  {
   "cell_type": "code",
   "execution_count": 17,
   "metadata": {},
   "outputs": [],
   "source": [
    "keep = ['PLAYER_ID', 'FIRST_NAME', 'LAST_NAME',\n",
    "       'BIRTHDATE', 'HEIGHT',\n",
    "       'WEIGHT', 'SEASON_EXP', 'ROSTERSTATUS',\n",
    "       'TEAM_ID', 'TEAM_NAME',\n",
    "       'TEAM_ABBREVIATION', 'TEAM_CODE', 'TEAM_CITY',\n",
    "       'DRAFT_YEAR', 'DRAFT_NUMBER', 'PLAYER_POSITION',\n",
    "       'GP', 'MIN',\n",
    "       'PTS', 'REB', 'AST', 'BLK', 'STL', 'TOV', 'FG3M', 'FGA', 'FG_PCT',\n",
    "       'FTA', 'FT_PCT']"
   ]
  },
  {
   "cell_type": "code",
   "execution_count": 18,
   "metadata": {},
   "outputs": [],
   "source": [
    "df = df.drop([i for i in df.columns if i not in keep], axis = 1)"
   ]
  },
  {
   "cell_type": "code",
   "execution_count": 19,
   "metadata": {},
   "outputs": [
    {
     "data": {
      "text/plain": [
       "array(['20', 'Undrafted', '12', '14', '2', '17', '21', '22', '8', '30',\n",
       "       '15', '60', '51', '3', '23', '43', '9', '1', '27', '40', '6', '7',\n",
       "       '48', '25', '19', '38', '42', '36', '18', '35', None, '31', '44',\n",
       "       '57', '39', '13', '28', '50', '47', '10', '45', '46', '33', '49',\n",
       "       '32', '11', '4', '41', '5', '34', '29', '26', '55', '24', '59',\n",
       "       '37', '16', '52', '54', '58', '56', '53'], dtype=object)"
      ]
     },
     "execution_count": 19,
     "metadata": {},
     "output_type": "execute_result"
    }
   ],
   "source": [
    "df['DRAFT_NUMBER'].unique()"
   ]
  },
  {
   "cell_type": "code",
   "execution_count": 20,
   "metadata": {},
   "outputs": [],
   "source": [
    "dic = {}\n",
    "for i in ['GP', 'MIN', 'PTS', 'REB', 'AST', 'BLK', 'STL', 'TOV', 'FG3M', 'FGA', 'FG_PCT','FTA', 'FT_PCT']:\n",
    "    dic[i] = 'CURRENT_SEASON_'+i    "
   ]
  },
  {
   "cell_type": "code",
   "execution_count": 21,
   "metadata": {},
   "outputs": [],
   "source": [
    "df = df.rename(columns=dic)"
   ]
  },
  {
   "cell_type": "code",
   "execution_count": 22,
   "metadata": {},
   "outputs": [],
   "source": [
    "df['DRAFT_NUMBER'] = df['DRAFT_NUMBER'].replace({'Undrafted':61, None:61})"
   ]
  },
  {
   "cell_type": "code",
   "execution_count": 23,
   "metadata": {},
   "outputs": [
    {
     "data": {
      "text/plain": [
       "Index(['PLAYER_ID', 'FIRST_NAME', 'LAST_NAME', 'BIRTHDATE', 'HEIGHT', 'WEIGHT',\n",
       "       'SEASON_EXP', 'ROSTERSTATUS', 'TEAM_NAME', 'TEAM_CODE', 'TEAM_CITY',\n",
       "       'DRAFT_YEAR', 'DRAFT_NUMBER', 'PLAYER_POSITION', 'TEAM_ID',\n",
       "       'TEAM_ABBREVIATION', 'CURRENT_SEASON_GP', 'CURRENT_SEASON_MIN',\n",
       "       'CURRENT_SEASON_PTS', 'CURRENT_SEASON_REB', 'CURRENT_SEASON_AST',\n",
       "       'CURRENT_SEASON_BLK', 'CURRENT_SEASON_STL', 'CURRENT_SEASON_TOV',\n",
       "       'CURRENT_SEASON_FG3M', 'CURRENT_SEASON_FGA', 'CURRENT_SEASON_FG_PCT',\n",
       "       'CURRENT_SEASON_FTA', 'CURRENT_SEASON_FT_PCT'],\n",
       "      dtype='object')"
      ]
     },
     "execution_count": 23,
     "metadata": {},
     "output_type": "execute_result"
    }
   ],
   "source": [
    "df.columns"
   ]
  },
  {
   "cell_type": "markdown",
   "metadata": {},
   "source": [
    "<h4>Gamelog Dictionary"
   ]
  },
  {
   "cell_type": "code",
   "execution_count": 24,
   "metadata": {},
   "outputs": [],
   "source": [
    "Game_Logs = {}"
   ]
  },
  {
   "cell_type": "code",
   "execution_count": 25,
   "metadata": {},
   "outputs": [
    {
     "ename": "ValueError",
     "evalue": "rate must be specified when data is a numpy array or list of audio samples.",
     "output_type": "error",
     "traceback": [
      "\u001b[1;31m---------------------------------------------------------------------------\u001b[0m",
      "\u001b[1;31mValueError\u001b[0m                                Traceback (most recent call last)",
      "\u001b[1;32m<ipython-input-25-2b9070d5e54b>\u001b[0m in \u001b[0;36m<module>\u001b[1;34m\u001b[0m\n\u001b[0;32m     16\u001b[0m             \u001b[0mprint\u001b[0m\u001b[1;33m(\u001b[0m\u001b[1;34m'break'\u001b[0m\u001b[1;33m)\u001b[0m\u001b[1;33m\u001b[0m\u001b[1;33m\u001b[0m\u001b[0m\n\u001b[0;32m     17\u001b[0m             \u001b[1;32mbreak\u001b[0m\u001b[1;33m\u001b[0m\u001b[1;33m\u001b[0m\u001b[0m\n\u001b[1;32m---> 18\u001b[1;33m \u001b[0mAudio\u001b[0m\u001b[1;33m(\u001b[0m\u001b[0msound_file\u001b[0m\u001b[1;33m,\u001b[0m \u001b[0mautoplay\u001b[0m\u001b[1;33m=\u001b[0m\u001b[1;32mTrue\u001b[0m\u001b[1;33m)\u001b[0m\u001b[1;33m\u001b[0m\u001b[1;33m\u001b[0m\u001b[0m\n\u001b[0m",
      "\u001b[1;32m~\\anaconda3\\lib\\site-packages\\IPython\\lib\\display.py\u001b[0m in \u001b[0;36m__init__\u001b[1;34m(self, data, filename, url, embed, rate, autoplay, normalize, element_id)\u001b[0m\n\u001b[0;32m    112\u001b[0m         \u001b[1;32mif\u001b[0m \u001b[0mself\u001b[0m\u001b[1;33m.\u001b[0m\u001b[0mdata\u001b[0m \u001b[1;32mis\u001b[0m \u001b[1;32mnot\u001b[0m \u001b[1;32mNone\u001b[0m \u001b[1;32mand\u001b[0m \u001b[1;32mnot\u001b[0m \u001b[0misinstance\u001b[0m\u001b[1;33m(\u001b[0m\u001b[0mself\u001b[0m\u001b[1;33m.\u001b[0m\u001b[0mdata\u001b[0m\u001b[1;33m,\u001b[0m \u001b[0mbytes\u001b[0m\u001b[1;33m)\u001b[0m\u001b[1;33m:\u001b[0m\u001b[1;33m\u001b[0m\u001b[1;33m\u001b[0m\u001b[0m\n\u001b[0;32m    113\u001b[0m             \u001b[1;32mif\u001b[0m \u001b[0mrate\u001b[0m \u001b[1;32mis\u001b[0m \u001b[1;32mNone\u001b[0m\u001b[1;33m:\u001b[0m\u001b[1;33m\u001b[0m\u001b[1;33m\u001b[0m\u001b[0m\n\u001b[1;32m--> 114\u001b[1;33m                 \u001b[1;32mraise\u001b[0m \u001b[0mValueError\u001b[0m\u001b[1;33m(\u001b[0m\u001b[1;34m\"rate must be specified when data is a numpy array or list of audio samples.\"\u001b[0m\u001b[1;33m)\u001b[0m\u001b[1;33m\u001b[0m\u001b[1;33m\u001b[0m\u001b[0m\n\u001b[0m\u001b[0;32m    115\u001b[0m             \u001b[0mself\u001b[0m\u001b[1;33m.\u001b[0m\u001b[0mdata\u001b[0m \u001b[1;33m=\u001b[0m \u001b[0mAudio\u001b[0m\u001b[1;33m.\u001b[0m\u001b[0m_make_wav\u001b[0m\u001b[1;33m(\u001b[0m\u001b[0mdata\u001b[0m\u001b[1;33m,\u001b[0m \u001b[0mrate\u001b[0m\u001b[1;33m,\u001b[0m \u001b[0mnormalize\u001b[0m\u001b[1;33m)\u001b[0m\u001b[1;33m\u001b[0m\u001b[1;33m\u001b[0m\u001b[0m\n\u001b[0;32m    116\u001b[0m \u001b[1;33m\u001b[0m\u001b[0m\n",
      "\u001b[1;31mValueError\u001b[0m: rate must be specified when data is a numpy array or list of audio samples."
     ]
    }
   ],
   "source": [
    "e = 0\n",
    "for player in ap:\n",
    "    try:\n",
    "        base = playergamelog.PlayerGameLog(player_id=player, timeout=1000).get_data_frames()\n",
    "        Game_Logs[player] = base[0]\n",
    "        time.sleep(0.600)\n",
    "    except:\n",
    "        if e < 7:\n",
    "            e+=1\n",
    "            time.sleep(45)\n",
    "            #print(e)\n",
    "            base = playergamelog.PlayerGameLog(player_id=player, timeout=1000).get_data_frames()\n",
    "            Game_Logs[player] = base[0]\n",
    "            continue\n",
    "        else:\n",
    "            print('break')\n",
    "            break\n",
    "Audio(sound_file, autoplay=True)"
   ]
  },
  {
   "cell_type": "code",
   "execution_count": 26,
   "metadata": {},
   "outputs": [],
   "source": [
    "for player in ap:\n",
    "    if len(Game_Logs[player]) == 0:\n",
    "        Game_Logs.pop(player)"
   ]
  },
  {
   "cell_type": "code",
   "execution_count": 27,
   "metadata": {},
   "outputs": [],
   "source": [
    "def dkings_score(row):\n",
    "    try:\n",
    "        threes = row['FG3M']\n",
    "        r = row['REB']\n",
    "        a = row['AST']\n",
    "        s = row['STL']\n",
    "        b = row['BLK']\n",
    "        t = row['TOV']\n",
    "        p = row['PTS']\n",
    "        score = 0.5*threes + 1.25*r + 1.5*a + 2*s +2*b + -0.5*t + p\n",
    "        dd = sum(1 for i in [p, r, a, s, b] if i>=10)\n",
    "        if dd == 2:\n",
    "            score += 1.5\n",
    "        if dd > 2:\n",
    "            score += 4.5\n",
    "        return(score)\n",
    "    except:\n",
    "        print(row)\n",
    "        pass"
   ]
  },
  {
   "cell_type": "code",
   "execution_count": 28,
   "metadata": {},
   "outputs": [],
   "source": [
    "to_be_averaged= ['MIN', 'FGM', 'FGA', 'FG3M', 'FG3A', 'FTM', 'FTA',\n",
    "       'OREB', 'DREB', 'AST', 'STL', 'BLK', 'TOV',\n",
    "       'PTS']"
   ]
  },
  {
   "cell_type": "code",
   "execution_count": 40,
   "metadata": {},
   "outputs": [],
   "source": [
    "# Add rest days into dataframe\n",
    "\n",
    "def resting(select_df):\n",
    "    \n",
    "    # Transform string of game_date to datetime format\n",
    "\n",
    "    select_df['GAME_DATETIME'] = pd.to_datetime(select_df['GAME_DATE'], format='%b %d, %Y')\n",
    "    select_df['GAME_DATENEW'] = select_df['GAME_DATETIME'].dt.date\n",
    "    \n",
    "    # Take diff between each date\n",
    "\n",
    "    select_df['GAME_DATENEW']=pd.to_datetime(select_df['GAME_DATENEW'])\n",
    "    select_df['rest_days'] = select_df['GAME_DATENEW'].diff()\n",
    "    \n",
    "    # Rest days column is added\n",
    "\n",
    "    select_df['rest_days'] = select_df['rest_days'].abs()\n",
    "    select_df.drop(columns=['GAME_DATETIME', 'GAME_DATENEW'])"
   ]
  },
  {
   "cell_type": "code",
   "execution_count": 29,
   "metadata": {},
   "outputs": [],
   "source": [
    "for frame in Game_Logs:\n",
    "    x = Game_Logs[frame]\n",
    "    x['DKING_SCORE'] = x.apply(lambda row: dkings_score(row), axis=1)\n",
    "    x['TEAM'] = x.apply(lambda row: row['MATCHUP'][:3], axis=1)\n",
    "    x['OPPOSING_TEAM'] = x.apply(lambda row: row['MATCHUP'][-3:], axis=1)\n",
    "    x['HOME_AWAY'] = x.apply(lambda row: 1 if '@' in row['MATCHUP'] else 0, axis = 1)\n",
    "    x.rename({'WL': 'PREVIOUS_WL'})\n",
    "    for column in to_be_averaged:\n",
    "        x['SEASON_'+ column] = x[column].rolling(window = len(x), min_periods = 1).mean()\n",
    "        x['5_GAME_AVG_'+ column] = x[column].rolling(window = 5, min_periods = 1).mean()\n",
    "    Game_Logs[frame] = x.drop(['MIN', 'MATCHUP', 'FGM', 'FGA', 'FG_PCT', 'FG3M', 'FG3A', 'FG3_PCT', 'FTM', 'FTA',\n",
    "       'FT_PCT', 'OREB', 'DREB', 'REB', 'AST', 'STL', 'BLK', 'TOV', 'PF',\n",
    "       'PTS', 'PLUS_MINUS', 'VIDEO_AVAILABLE'], axis = 1)"
   ]
  },
  {
   "cell_type": "code",
   "execution_count": 30,
   "metadata": {},
   "outputs": [],
   "source": [
    "not_shift = ['SEASON_ID', 'Player_ID', 'Game_ID', 'GAME_DATE','DKING_SCORE',\n",
    "       'TEAM', 'OPPOSING_TEAM', 'HOME_AWAY']"
   ]
  },
  {
   "cell_type": "code",
   "execution_count": 42,
   "metadata": {},
   "outputs": [],
   "source": [
    "testing = Game_Logs[ap[0]]"
   ]
  },
  {
   "cell_type": "code",
   "execution_count": 43,
   "metadata": {},
   "outputs": [],
   "source": [
    "to_shift = [i for i in testing.columns if i not in not_shift]"
   ]
  },
  {
   "cell_type": "code",
   "execution_count": 44,
   "metadata": {},
   "outputs": [],
   "source": [
    "for frame in Game_Logs:\n",
    "    for column in to_shift:\n",
    "        Game_Logs[frame][column]= Game_Logs[frame][column].shift(1)\n",
    "    Game_Logs[frame] = Game_Logs[frame][[c for c in Game_Logs[frame] if c != 'DKING_SCORE'] \n",
    "       + ['DKING_SCORE']]\n",
    "    resting(Game_Logs[frame])"
   ]
  },
  {
   "cell_type": "code",
   "execution_count": 45,
   "metadata": {},
   "outputs": [
    {
     "data": {
      "text/html": [
       "<div>\n",
       "<style scoped>\n",
       "    .dataframe tbody tr th:only-of-type {\n",
       "        vertical-align: middle;\n",
       "    }\n",
       "\n",
       "    .dataframe tbody tr th {\n",
       "        vertical-align: top;\n",
       "    }\n",
       "\n",
       "    .dataframe thead th {\n",
       "        text-align: right;\n",
       "    }\n",
       "</style>\n",
       "<table border=\"1\" class=\"dataframe\">\n",
       "  <thead>\n",
       "    <tr style=\"text-align: right;\">\n",
       "      <th></th>\n",
       "      <th>SEASON_ID</th>\n",
       "      <th>Player_ID</th>\n",
       "      <th>Game_ID</th>\n",
       "      <th>GAME_DATE</th>\n",
       "      <th>WL</th>\n",
       "      <th>TEAM</th>\n",
       "      <th>OPPOSING_TEAM</th>\n",
       "      <th>HOME_AWAY</th>\n",
       "      <th>SEASON_MIN</th>\n",
       "      <th>5_GAME_AVG_MIN</th>\n",
       "      <th>...</th>\n",
       "      <th>SEASON_BLK</th>\n",
       "      <th>5_GAME_AVG_BLK</th>\n",
       "      <th>SEASON_TOV</th>\n",
       "      <th>5_GAME_AVG_TOV</th>\n",
       "      <th>SEASON_PTS</th>\n",
       "      <th>5_GAME_AVG_PTS</th>\n",
       "      <th>DKING_SCORE</th>\n",
       "      <th>GAME_DATETIME</th>\n",
       "      <th>GAME_DATENEW</th>\n",
       "      <th>rest_days</th>\n",
       "    </tr>\n",
       "  </thead>\n",
       "  <tbody>\n",
       "    <tr>\n",
       "      <th>0</th>\n",
       "      <td>22020</td>\n",
       "      <td>1630173</td>\n",
       "      <td>0022000888</td>\n",
       "      <td>APR 21, 2021</td>\n",
       "      <td>NaN</td>\n",
       "      <td>MIA</td>\n",
       "      <td>SAS</td>\n",
       "      <td>1</td>\n",
       "      <td>NaN</td>\n",
       "      <td>NaN</td>\n",
       "      <td>...</td>\n",
       "      <td>NaN</td>\n",
       "      <td>NaN</td>\n",
       "      <td>NaN</td>\n",
       "      <td>NaN</td>\n",
       "      <td>NaN</td>\n",
       "      <td>NaN</td>\n",
       "      <td>2.25</td>\n",
       "      <td>NaT</td>\n",
       "      <td>NaT</td>\n",
       "      <td>NaT</td>\n",
       "    </tr>\n",
       "    <tr>\n",
       "      <th>1</th>\n",
       "      <td>22020</td>\n",
       "      <td>1630173</td>\n",
       "      <td>0022000871</td>\n",
       "      <td>APR 19, 2021</td>\n",
       "      <td>NaN</td>\n",
       "      <td>MIA</td>\n",
       "      <td>HOU</td>\n",
       "      <td>0</td>\n",
       "      <td>NaN</td>\n",
       "      <td>NaN</td>\n",
       "      <td>...</td>\n",
       "      <td>NaN</td>\n",
       "      <td>NaN</td>\n",
       "      <td>NaN</td>\n",
       "      <td>NaN</td>\n",
       "      <td>NaN</td>\n",
       "      <td>NaN</td>\n",
       "      <td>22.25</td>\n",
       "      <td>2021-04-21</td>\n",
       "      <td>2021-04-21</td>\n",
       "      <td>NaT</td>\n",
       "    </tr>\n",
       "    <tr>\n",
       "      <th>2</th>\n",
       "      <td>22020</td>\n",
       "      <td>1630173</td>\n",
       "      <td>0022000852</td>\n",
       "      <td>APR 16, 2021</td>\n",
       "      <td>NaN</td>\n",
       "      <td>MIA</td>\n",
       "      <td>MIN</td>\n",
       "      <td>1</td>\n",
       "      <td>NaN</td>\n",
       "      <td>NaN</td>\n",
       "      <td>...</td>\n",
       "      <td>NaN</td>\n",
       "      <td>NaN</td>\n",
       "      <td>NaN</td>\n",
       "      <td>NaN</td>\n",
       "      <td>NaN</td>\n",
       "      <td>NaN</td>\n",
       "      <td>5.25</td>\n",
       "      <td>2021-04-19</td>\n",
       "      <td>2021-04-19</td>\n",
       "      <td>2 days</td>\n",
       "    </tr>\n",
       "    <tr>\n",
       "      <th>3</th>\n",
       "      <td>22020</td>\n",
       "      <td>1630173</td>\n",
       "      <td>0022000838</td>\n",
       "      <td>APR 14, 2021</td>\n",
       "      <td>W</td>\n",
       "      <td>MIA</td>\n",
       "      <td>DEN</td>\n",
       "      <td>1</td>\n",
       "      <td>2.0</td>\n",
       "      <td>2.0</td>\n",
       "      <td>...</td>\n",
       "      <td>0.0</td>\n",
       "      <td>0.0</td>\n",
       "      <td>0.0</td>\n",
       "      <td>0.0</td>\n",
       "      <td>1.0</td>\n",
       "      <td>1.0</td>\n",
       "      <td>10.00</td>\n",
       "      <td>2021-04-16</td>\n",
       "      <td>2021-04-16</td>\n",
       "      <td>3 days</td>\n",
       "    </tr>\n",
       "    <tr>\n",
       "      <th>4</th>\n",
       "      <td>22020</td>\n",
       "      <td>1630173</td>\n",
       "      <td>0022000827</td>\n",
       "      <td>APR 13, 2021</td>\n",
       "      <td>W</td>\n",
       "      <td>MIA</td>\n",
       "      <td>PHX</td>\n",
       "      <td>1</td>\n",
       "      <td>15.5</td>\n",
       "      <td>15.5</td>\n",
       "      <td>...</td>\n",
       "      <td>0.0</td>\n",
       "      <td>0.0</td>\n",
       "      <td>1.5</td>\n",
       "      <td>1.5</td>\n",
       "      <td>4.5</td>\n",
       "      <td>4.5</td>\n",
       "      <td>6.50</td>\n",
       "      <td>2021-04-14</td>\n",
       "      <td>2021-04-14</td>\n",
       "      <td>2 days</td>\n",
       "    </tr>\n",
       "  </tbody>\n",
       "</table>\n",
       "<p>5 rows × 40 columns</p>\n",
       "</div>"
      ],
      "text/plain": [
       "  SEASON_ID  Player_ID     Game_ID     GAME_DATE   WL TEAM OPPOSING_TEAM  \\\n",
       "0     22020    1630173  0022000888  APR 21, 2021  NaN  MIA           SAS   \n",
       "1     22020    1630173  0022000871  APR 19, 2021  NaN  MIA           HOU   \n",
       "2     22020    1630173  0022000852  APR 16, 2021  NaN  MIA           MIN   \n",
       "3     22020    1630173  0022000838  APR 14, 2021    W  MIA           DEN   \n",
       "4     22020    1630173  0022000827  APR 13, 2021    W  MIA           PHX   \n",
       "\n",
       "   HOME_AWAY  SEASON_MIN  5_GAME_AVG_MIN  ...  SEASON_BLK  5_GAME_AVG_BLK  \\\n",
       "0          1         NaN             NaN  ...         NaN             NaN   \n",
       "1          0         NaN             NaN  ...         NaN             NaN   \n",
       "2          1         NaN             NaN  ...         NaN             NaN   \n",
       "3          1         2.0             2.0  ...         0.0             0.0   \n",
       "4          1        15.5            15.5  ...         0.0             0.0   \n",
       "\n",
       "   SEASON_TOV  5_GAME_AVG_TOV  SEASON_PTS  5_GAME_AVG_PTS  DKING_SCORE  \\\n",
       "0         NaN             NaN         NaN             NaN         2.25   \n",
       "1         NaN             NaN         NaN             NaN        22.25   \n",
       "2         NaN             NaN         NaN             NaN         5.25   \n",
       "3         0.0             0.0         1.0             1.0        10.00   \n",
       "4         1.5             1.5         4.5             4.5         6.50   \n",
       "\n",
       "   GAME_DATETIME  GAME_DATENEW  rest_days  \n",
       "0            NaT           NaT        NaT  \n",
       "1     2021-04-21    2021-04-21        NaT  \n",
       "2     2021-04-19    2021-04-19     2 days  \n",
       "3     2021-04-16    2021-04-16     3 days  \n",
       "4     2021-04-14    2021-04-14     2 days  \n",
       "\n",
       "[5 rows x 40 columns]"
      ]
     },
     "execution_count": 45,
     "metadata": {},
     "output_type": "execute_result"
    }
   ],
   "source": [
    "testing.head()"
   ]
  },
  {
   "cell_type": "code",
   "execution_count": null,
   "metadata": {},
   "outputs": [],
   "source": []
  }
 ],
 "metadata": {
  "kernelspec": {
   "display_name": "Python 3",
   "language": "python",
   "name": "python3"
  },
  "language_info": {
   "codemirror_mode": {
    "name": "ipython",
    "version": 3
   },
   "file_extension": ".py",
   "mimetype": "text/x-python",
   "name": "python",
   "nbconvert_exporter": "python",
   "pygments_lexer": "ipython3",
   "version": "3.8.3"
  }
 },
 "nbformat": 4,
 "nbformat_minor": 4
}
